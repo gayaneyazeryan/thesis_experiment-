{
 "cells": [
  {
   "cell_type": "code",
   "execution_count": 10,
   "id": "a35d6016",
   "metadata": {},
   "outputs": [],
   "source": [
    "import numpy as np\n",
    "import time\n",
    "import math\n",
    "from tqdm.notebook import tqdm\n",
    "import matplotlib.pyplot as plt\n",
    "from sklearn.model_selection import train_test_split\n",
    "from sklearn.datasets import load_svmlight_file\n",
    "from sklearn.preprocessing import StandardScaler\n",
    "import matplotlib.ticker as mticker\n",
    "from matplotlib.ticker import MultipleLocator,StrMethodFormatter,ScalarFormatter"
   ]
  },
  {
   "cell_type": "code",
   "execution_count": 11,
   "id": "97ac2bc7",
   "metadata": {},
   "outputs": [],
   "source": [
    "# Sigmoid function\n",
    "def sigmoid(x):\n",
    "    return 1 / (1 + np.exp(-x))"
   ]
  },
  {
   "cell_type": "code",
   "execution_count": 12,
   "id": "48ee7d0f",
   "metadata": {},
   "outputs": [],
   "source": [
    "# Negative log likelihood of logistic regression (Bernoulli likelihood)\n",
    "def neg_log_likelihood(X, y, beta):\n",
    "    logits = np.dot(X, beta)\n",
    "    return -np.sum(y * np.log(sigmoid(logits)) + (1 - y) * np.log(1 - sigmoid(logits)))"
   ]
  },
  {
   "cell_type": "code",
   "execution_count": 13,
   "id": "26b0c881",
   "metadata": {},
   "outputs": [],
   "source": [
    "# Gradient of the negative log likelihood\n",
    "def neg_log_likelihood_gradient(X, y, beta):\n",
    "    probabilities = sigmoid(np.dot(X, beta))\n",
    "    return np.dot(X.T, probabilities - y)"
   ]
  },
  {
   "cell_type": "code",
   "execution_count": 14,
   "id": "d17d60a0",
   "metadata": {},
   "outputs": [],
   "source": [
    "# Negative log posterior (negative log likelihood + L2 prior on parameters)\n",
    "def neg_log_posterior(X, y, beta, lamb):\n",
    "    return neg_log_likelihood(X, y, beta) + (lamb / 2) * np.sum(beta**2)"
   ]
  },
  {
   "cell_type": "code",
   "execution_count": 15,
   "id": "e4f1e736",
   "metadata": {},
   "outputs": [],
   "source": [
    "# Gradient of the negative log posterior\n",
    "def neg_log_posterior_gradient(X, y, beta, lamb):\n",
    "    return neg_log_likelihood_gradient(X, y, beta) + lamb * beta"
   ]
  },
  {
   "cell_type": "code",
   "execution_count": 234,
   "id": "f582a389",
   "metadata": {},
   "outputs": [],
   "source": [
    "def log_regression(X, y, k, x0, d, lamb,freq):\n",
    "    gamma = 1/(k**(4/5))\n",
    "    x = x0.copy()\n",
    "    all_iterates = []\n",
    "    num_of_clients = len(X)\n",
    "    client_data = np.zeros((num_of_clients,d))\n",
    "    for iteration in tqdm(range(k)):\n",
    "        for idx in range(num_of_clients):\n",
    "            client_data[idx] = neg_log_posterior_gradient(X[idx], y[idx], x, lamb) \n",
    "        noise = np.sqrt(2 * gamma) * np.random.normal(size=d)\n",
    "        x -= gamma * client_data.mean(axis=0) + noise\n",
    "        if np.mod(iteration,freq) == 0:\n",
    "            all_iterates.append(x.copy())\n",
    "    return all_iterates"
   ]
  },
  {
   "cell_type": "code",
   "execution_count": 235,
   "id": "88c409ff",
   "metadata": {},
   "outputs": [],
   "source": [
    "def penalized_log_regression(X, y, k, x0, d, lamb, freq):\n",
    "    gamma = 1/(k**(4/5))\n",
    "    x = x0.copy()\n",
    "    all_iterates = []\n",
    "    num_of_clients = len(X)\n",
    "    client_data = np.zeros((num_of_clients,d))\n",
    "    for iteration in tqdm(range(k)):\n",
    "        for idx in range(num_of_clients):\n",
    "            client_data[idx] = neg_log_posterior_gradient(X[idx], y[idx], x, lamb) + 1/(1 + iteration*gamma)\n",
    "        noise = np.sqrt(2 * gamma) * np.random.normal(size=d)\n",
    "        x -= gamma * client_data.mean(axis=0) + noise\n",
    "        if np.mod(iteration,freq) == 0:\n",
    "            all_iterates.append(x.copy())\n",
    "\n",
    "    return all_iterates"
   ]
  },
  {
   "cell_type": "code",
   "execution_count": 236,
   "id": "d4afd460",
   "metadata": {},
   "outputs": [],
   "source": [
    "dataset = 'mushrooms'"
   ]
  },
  {
   "cell_type": "code",
   "execution_count": 237,
   "id": "34771831",
   "metadata": {},
   "outputs": [],
   "source": [
    "X, y = load_svmlight_file(f'{dataset}.txt')\n",
    "X = X.toarray()\n",
    "y = (y == 1).astype(int)"
   ]
  },
  {
   "cell_type": "code",
   "execution_count": 238,
   "id": "38f27de3",
   "metadata": {},
   "outputs": [],
   "source": [
    "# Split the data into training and test sets\n",
    "X_train, X_test, y_train, y_test = train_test_split(X, y, test_size=0.2, random_state=42)"
   ]
  },
  {
   "cell_type": "code",
   "execution_count": 239,
   "id": "ab5bf9d8",
   "metadata": {},
   "outputs": [],
   "source": [
    "num_of_clients=40"
   ]
  },
  {
   "cell_type": "code",
   "execution_count": 240,
   "id": "db91f20a",
   "metadata": {},
   "outputs": [],
   "source": [
    "X_train_client = np.array_split(X_train,num_of_clients)\n",
    "X_test_client = np.array_split(X_test,num_of_clients)\n",
    "y_train_client = np.array_split(y_train,num_of_clients)\n",
    "y_test_client = np.array_split(y_test,num_of_clients)"
   ]
  },
  {
   "cell_type": "code",
   "execution_count": 241,
   "id": "9af2770b",
   "metadata": {},
   "outputs": [],
   "source": [
    "# Set the parameters for ULD\n",
    "h = 0.0001  # step size\n",
    "lamb = 1  # regularization parameter\n",
    "d = X_train.shape[1]  # number of features\n",
    "x0 = np.random.randn(d)  # initialize x0\n",
    "k = 800  # number of iterations\n",
    "freq = 10"
   ]
  },
  {
   "cell_type": "code",
   "execution_count": 242,
   "id": "78b701ce",
   "metadata": {},
   "outputs": [],
   "source": [
    "# The number of coordinates communicated at each iteration.\n",
    "num_coords = d  + math.ceil(d/32)"
   ]
  },
  {
   "cell_type": "code",
   "execution_count": 243,
   "id": "ad5d6d4a",
   "metadata": {},
   "outputs": [],
   "source": [
    "orig_num_coords = 2*d"
   ]
  },
  {
   "cell_type": "code",
   "execution_count": 244,
   "id": "78afa559",
   "metadata": {},
   "outputs": [],
   "source": [
    "m = 80 # how many iterates to average"
   ]
  },
  {
   "cell_type": "code",
   "execution_count": 245,
   "id": "95edd0e3",
   "metadata": {},
   "outputs": [
    {
     "data": {
      "application/vnd.jupyter.widget-view+json": {
       "model_id": "ca049e69e8ea495ca58e98a347054c2a",
       "version_major": 2,
       "version_minor": 0
      },
      "text/plain": [
       "  0%|          | 0/800 [00:00<?, ?it/s]"
      ]
     },
     "metadata": {},
     "output_type": "display_data"
    },
    {
     "data": {
      "application/vnd.jupyter.widget-view+json": {
       "model_id": "e8a20227339340e78b38cf3762e9b89c",
       "version_major": 2,
       "version_minor": 0
      },
      "text/plain": [
       "  0%|          | 0/800 [00:00<?, ?it/s]"
      ]
     },
     "metadata": {},
     "output_type": "display_data"
    }
   ],
   "source": [
    "iterates = penalized_log_regression(X_train_client, y_train_client, k, x0, d, lamb, freq)\n",
    "orig_iterates = log_regression(X_train_client, y_train_client, k, x0, d, lamb, freq)"
   ]
  },
  {
   "cell_type": "code",
   "execution_count": 246,
   "id": "8829b36c",
   "metadata": {},
   "outputs": [],
   "source": [
    "lensize=len(iterates)"
   ]
  },
  {
   "cell_type": "code",
   "execution_count": 247,
   "id": "dcc5a297",
   "metadata": {},
   "outputs": [],
   "source": [
    "accuracy_list=[]\n",
    "orig_accuracy_list = []"
   ]
  },
  {
   "cell_type": "code",
   "execution_count": 248,
   "id": "ab623e4d",
   "metadata": {},
   "outputs": [],
   "source": [
    "for i in range(lensize):\n",
    "    start_index = max(0, i - m + 1)\n",
    "    end_index = i + 1\n",
    "    # Calculate the rolling average of the selected entries\n",
    "    rolling_average_final_estimator = np.mean(iterates[start_index:end_index], axis=0)\n",
    "    original_estimator = np.mean(orig_iterates[start_index:end_index], axis=0)\n",
    "    logits_test = np.dot(X_test, rolling_average_final_estimator)\n",
    "    orig_logits_test = np.dot(X_test, original_estimator)\n",
    "    # Apply the sigmoid function to get probabilities\n",
    "    probabilities_test = sigmoid(logits_test)\n",
    "    orig_probabilities_test = sigmoid(orig_logits_test)\n",
    "    # Classify based on a threshold (e.g., 0.5)\n",
    "    predictions_test = (probabilities_test >= 0.5).astype(int)\n",
    "    orig_predictions_test = (orig_probabilities_test >= 0.5).astype(int)\n",
    "    # Evaluate the accuracy on the test set\n",
    "    accuracy_test = np.mean(predictions_test == y_test)\n",
    "    orig_accuracy_test = np.mean(orig_predictions_test == y_test)\n",
    "    # Append the accuracy value to the list\n",
    "    accuracy_list.append(accuracy_test)\n",
    "    orig_accuracy_list.append(orig_accuracy_test)\n",
    "accuracy_array = np.array(accuracy_list)\n",
    "orig_accuracy_array=np.array(orig_accuracy_list)"
   ]
  },
  {
   "cell_type": "code",
   "execution_count": 249,
   "id": "ba8bca94",
   "metadata": {},
   "outputs": [
    {
     "data": {
      "text/plain": [
       "80"
      ]
     },
     "execution_count": 249,
     "metadata": {},
     "output_type": "execute_result"
    }
   ],
   "source": [
    "len(accuracy_array)"
   ]
  },
  {
   "cell_type": "code",
   "execution_count": 250,
   "id": "158f84d6",
   "metadata": {},
   "outputs": [
    {
     "data": {
      "text/plain": [
       "array([ 0,  1,  2,  3,  4,  5,  6,  7,  8,  9, 10, 11, 12, 13, 14, 15, 16,\n",
       "       17, 18, 19, 20, 21, 22, 23, 24, 25, 26, 27, 28, 29, 30, 31, 32, 33,\n",
       "       34, 35, 36, 37, 38, 39, 40, 41, 42, 43, 44, 45, 46, 47, 48, 49, 50,\n",
       "       51, 52, 53, 54, 55, 56, 57, 58, 59, 60, 61, 62, 63, 64, 65, 66, 67,\n",
       "       68, 69, 70, 71, 72, 73, 74, 75, 76, 77, 78, 79])"
      ]
     },
     "execution_count": 250,
     "metadata": {},
     "output_type": "execute_result"
    }
   ],
   "source": [
    "np.arange(int(k/freq))"
   ]
  },
  {
   "cell_type": "code",
   "execution_count": 251,
   "id": "6c713074",
   "metadata": {},
   "outputs": [
    {
     "name": "stdout",
     "output_type": "stream",
     "text": [
      "80\n",
      "orig_scaled_x_values: 80\n",
      "scaled_x_values: 80\n",
      "orig_scaled_x_values: 41\n",
      "length: 41\n"
     ]
    }
   ],
   "source": [
    "scaled_x_values = 32 * num_coords * np.arange(int(k/freq))\n",
    "print(len(scaled_x_values))\n",
    "orig_scaled_x_values = 32 * orig_num_coords * np.arange(int(k/freq))\n",
    "print('orig_scaled_x_values:', len(orig_scaled_x_values))\n",
    "orig_scaled_x_values = orig_scaled_x_values[orig_scaled_x_values<=scaled_x_values.max()]\n",
    "length = orig_scaled_x_values.shape[0]\n",
    "print('scaled_x_values:', len(scaled_x_values))\n",
    "print('orig_scaled_x_values:', len(orig_scaled_x_values))\n",
    "print('length:', length)"
   ]
  },
  {
   "cell_type": "code",
   "execution_count": 252,
   "id": "8c7adaa0",
   "metadata": {},
   "outputs": [
    {
     "data": {
      "image/png": "[encoded data removed]",
      "text/plain": [
       "<Figure size 640x480 with 1 Axes>"
      ]
     },
     "metadata": {},
     "output_type": "display_data"
    }
   ],
   "source": [
    "fig, ax = plt.subplots()\n",
    "plt.rcParams.update({'font.size': 15})\n",
    "\n",
    "scaled_x_values = 32 * num_coords * np.arange(int(k/freq))\n",
    "orig_scaled_x_values = 32 * orig_num_coords * np.arange(int(k/freq))\n",
    "orig_scaled_x_values = orig_scaled_x_values[orig_scaled_x_values<=scaled_x_values.max()]\n",
    "length = orig_scaled_x_values.shape[0]\n",
    "plt.plot(scaled_x_values, accuracy_array[:100], label='PLMC')  # Using markers for better visibility\n",
    "plt.plot(orig_scaled_x_values, orig_accuracy_array[:length],label='LMC')\n",
    "\n",
    "plt.xlabel('Bits')\n",
    "plt.ylabel('Test Accuracy')\n",
    "plt.title(f'{dataset}')\n",
    "\n",
    "# Set ticks\n",
    "ticks = np.linspace(0, scaled_x_values.max(), 6).astype(int)\n",
    "ax.set_xticks(ticks)\n",
    "\n",
    "# Use ScalarFormatter to apply scientific notation to ticks\n",
    "formatter = ScalarFormatter(useMathText=True)  # useMathText ensures it uses MathText for scientific notation\n",
    "formatter.set_scientific(True)\n",
    "formatter.set_powerlimits((0,1))  # Adjust thresholds for when scientific notation is applied\n",
    "ax.xaxis.set_major_formatter(formatter)\n",
    "\n",
    "for x_value in ax.get_xticks():\n",
    "    ax.axvline(x=x_value, linestyle='--', color='gray', alpha=0.5)\n",
    "\n",
    "plt.legend(fontsize=15)\n",
    "plt.grid(True)  # Optionally add a grid\n",
    "plt.tight_layout()\n",
    "plt.show()\n"
   ]
  },
  {
   "cell_type": "code",
   "execution_count": 253,
   "id": "c0e07989",
   "metadata": {},
   "outputs": [
    {
     "data": {
      "application/vnd.jupyter.widget-view+json": {
       "model_id": "2c72c5ac92c44cc69f4bcd997c5a83f2",
       "version_major": 2,
       "version_minor": 0
      },
      "text/plain": [
       "  0%|          | 0/800 [00:00<?, ?it/s]"
      ]
     },
     "metadata": {},
     "output_type": "display_data"
    },
    {
     "data": {
      "application/vnd.jupyter.widget-view+json": {
       "model_id": "a3aeddfa0d6648528edbb1f8982a4a14",
       "version_major": 2,
       "version_minor": 0
      },
      "text/plain": [
       "  0%|          | 0/800 [00:00<?, ?it/s]"
      ]
     },
     "metadata": {},
     "output_type": "display_data"
    }
   ],
   "source": [
    "dataset = 'a9a'\n",
    "X, y = load_svmlight_file(f'{dataset}.txt')\n",
    "X = X.toarray()\n",
    "y = (y == 1).astype(int)\n",
    "\n",
    "# Split the data into training and test sets\n",
    "X_train, X_test, y_train, y_test = train_test_split(X, y, test_size=0.2, random_state=42)\n",
    "\n",
    "# Set the parameters for ULD\n",
    "gamma = 0.0001  # step size\n",
    "tau = 30  # top tau parameter\n",
    "lamb = 1  # regularization parameter\n",
    "d = X_train.shape[1]  # number of features\n",
    "x0 = np.random.randn(d)  # initialize x0\n",
    "k = 800  # number of iterations\n",
    "freq = 10\n",
    "\n",
    "# The number of coordinates communicated at each iteration.\n",
    "num_coords = d + tau + math.ceil(d/32)\n",
    "orig_num_coords = 2*d\n",
    "m = 80  # how many iterates to average\n",
    "\n",
    "num_of_clients = 40\n",
    "\n",
    "X_train_client = np.array_split(X_train,num_of_clients)\n",
    "X_test_client = np.array_split(X_test,num_of_clients)\n",
    "y_train_client = np.array_split(y_train,num_of_clients)\n",
    "y_test_client = np.array_split(y_test,num_of_clients)\n",
    "\n",
    "iterates = penalized_log_regression(X_train_client, y_train_client, k, x0, d, lamb, freq)\n",
    "orig_iterates = log_regression(X_train_client, y_train_client, k, x0, d, lamb,freq)\n",
    "\n",
    "lensize = len(iterates)\n",
    "\n",
    "accuracy_list = []\n",
    "orig_accuracy_list = []\n",
    "\n",
    "for i in range(lensize):\n",
    "    start_index = max(0, i - m + 1)\n",
    "    end_index = i + 1\n",
    "    # Calculate the rolling average of the selected entries\n",
    "    rolling_average_final_estimator = np.mean(iterates[start_index:end_index], axis=0)\n",
    "    original_estimator = np.mean(orig_iterates[start_index:end_index], axis=0)\n",
    "    logits_test = np.dot(X_test, rolling_average_final_estimator)\n",
    "    orig_logits_test = np.dot(X_test, original_estimator)\n",
    "    # Apply the sigmoid function to get probabilities\n",
    "    probabilities_test = sigmoid(logits_test)\n",
    "    orig_probabilities_test = sigmoid(orig_logits_test)\n",
    "    # Classify based on a threshold (e.g., 0.5)\n",
    "    predictions_test = (probabilities_test >= 0.5).astype(int)\n",
    "    orig_predictions_test = (orig_probabilities_test >= 0.5).astype(int)\n",
    "    # Evaluate the accuracy on the test set\n",
    "    accuracy_test = np.mean(predictions_test == y_test)\n",
    "    orig_accuracy_test = np.mean(orig_predictions_test == y_test)\n",
    "    # Append the accuracy value to the list\n",
    "    accuracy_list.append(accuracy_test)\n",
    "    orig_accuracy_list.append(orig_accuracy_test)\n",
    "accuracy_array = np.array(accuracy_list)\n",
    "orig_accuracy_array=np.array(orig_accuracy_list)"
   ]
  },
  {
   "cell_type": "code",
   "execution_count": 254,
   "id": "35ebca0a",
   "metadata": {},
   "outputs": [
    {
     "data": {
      "image/png": "[encoded data removed]",
      "text/plain": [
       "<Figure size 640x480 with 1 Axes>"
      ]
     },
     "metadata": {},
     "output_type": "display_data"
    }
   ],
   "source": [
    "fig, ax = plt.subplots()\n",
    "plt.rcParams.update({'font.size': 15})\n",
    "\n",
    "scaled_x_values = 32 * num_coords * np.arange(int(k/freq))\n",
    "orig_scaled_x_values = 32 * orig_num_coords * np.arange(int(k/freq))\n",
    "orig_scaled_x_values = orig_scaled_x_values[orig_scaled_x_values<=scaled_x_values.max()]\n",
    "length = orig_scaled_x_values.shape[0]\n",
    "plt.plot(scaled_x_values, accuracy_array, label='PLMC')  # Using markers for better visibility\n",
    "plt.plot(orig_scaled_x_values, orig_accuracy_array[:length],label='LMC')\n",
    "\n",
    "plt.xlabel('Bits')\n",
    "plt.ylabel('Test Accuracy')\n",
    "plt.title(f'{dataset}')\n",
    "# Set ticks\n",
    "ticks = np.linspace(0, scaled_x_values.max(), 6).astype(int)\n",
    "ax.set_xticks(ticks)\n",
    "\n",
    "# Use ScalarFormatter to apply scientific notation to ticks\n",
    "formatter = ScalarFormatter(useMathText=True)  # useMathText ensures it uses MathText for scientific notation\n",
    "formatter.set_scientific(True)\n",
    "formatter.set_powerlimits((0,1))  # Adjust thresholds for when scientific notation is applied\n",
    "ax.xaxis.set_major_formatter(formatter)\n",
    "for x_value in ax.get_xticks():\n",
    "    ax.axvline(x=x_value, linestyle='--', color='gray', alpha=0.5)\n",
    "\n",
    "plt.legend(fontsize=15)\n",
    "plt.grid(True)  # Optionally add a grid\n",
    "plt.tight_layout()\n",
    "plt.show()"
   ]
  },
  {
   "cell_type": "code",
   "execution_count": null,
   "id": "ee06034d",
   "metadata": {},
   "outputs": [],
   "source": []
  },
  {
   "cell_type": "code",
   "execution_count": null,
   "id": "bd9c8117",
   "metadata": {},
   "outputs": [],
   "source": []
  }
 ],
 "metadata": {
  "kernelspec": {
   "display_name": "Python 3 (ipykernel)",
   "language": "python",
   "name": "python3"
  },
  "language_info": {
   "codemirror_mode": {
    "name": "ipython",
    "version": 3
   },
   "file_extension": ".py",
   "mimetype": "text/x-python",
   "name": "python",
   "nbconvert_exporter": "python",
   "pygments_lexer": "ipython3",
   "version": "3.10.12"
  }
 },
 "nbformat": 4,
 "nbformat_minor": 5
}
